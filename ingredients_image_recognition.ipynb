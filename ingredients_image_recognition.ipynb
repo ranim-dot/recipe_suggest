{
 "cells": [
  {
   "cell_type": "code",
   "execution_count": 2,
   "id": "75d6ae21-ddd8-42d5-b34e-777c8dc577ea",
   "metadata": {},
   "outputs": [
    {
     "name": "stdout",
     "output_type": "stream",
     "text": [
      "Requirement already satisfied: opencv-python in c:\\users\\ranim\\appdata\\local\\packages\\pythonsoftwarefoundation.python.3.10_qbz5n2kfra8p0\\localcache\\local-packages\\python310\\site-packages (4.8.1.78)Note: you may need to restart the kernel to use updated packages.\n",
      "\n",
      "Requirement already satisfied: numpy>=1.21.2 in c:\\users\\ranim\\appdata\\local\\packages\\pythonsoftwarefoundation.python.3.10_qbz5n2kfra8p0\\localcache\\local-packages\\python310\\site-packages (from opencv-python) (1.24.3)\n"
     ]
    }
   ],
   "source": [
    "pip install opencv-python"
   ]
  },
  {
   "cell_type": "code",
   "execution_count": 10,
   "id": "79f03a39-69df-4be7-989c-e1b8e4f04dc6",
   "metadata": {},
   "outputs": [],
   "source": [
    "# Import\n",
    "\n",
    "import tensorflow as tf\n",
    "import os\n",
    "import numpy as np\n",
    "import cv2\n",
    "import random\n",
    "from PIL import Image\n",
    "import shutil\n",
    "from tensorflow.keras.applications.efficientnet import preprocess_input, decode_predictions\n",
    "from keras.utils import to_categorical\n",
    "from sklearn.utils import shuffle\n",
    "from tensorflow.keras.preprocessing import image\n",
    "from tensorflow.keras.applications import EfficientNetB0\n",
    "from keras.preprocessing.image import ImageDataGenerator\n",
    "from keras.src.metrics.confusion_metrics import activations\n",
    "from tensorflow.keras.models import Sequential\n",
    "from tensorflow.keras.layers import Conv2D,Dense,MaxPooling2D,Flatten,BatchNormalization,Dropout,Activation\n",
    "from tensorflow.keras.models import load_model"
   ]
  },
  {
   "cell_type": "code",
   "execution_count": 11,
   "id": "c878fb5f",
   "metadata": {},
   "outputs": [
    {
     "name": "stdout",
     "output_type": "stream",
     "text": [
      "['test', 'train', 'validation']\n"
     ]
    },
    {
     "data": {
      "text/plain": [
       "['apple',\n",
       " 'banana',\n",
       " 'beetroot',\n",
       " 'bell pepper',\n",
       " 'cabbage',\n",
       " 'capsicum',\n",
       " 'carrot',\n",
       " 'cauliflower',\n",
       " 'chilli pepper',\n",
       " 'corn',\n",
       " 'cucumber',\n",
       " 'eggplant',\n",
       " 'garlic',\n",
       " 'ginger',\n",
       " 'grapes',\n",
       " 'jalepeno',\n",
       " 'kiwi',\n",
       " 'lemon',\n",
       " 'lettuce',\n",
       " 'mango',\n",
       " 'onion',\n",
       " 'orange',\n",
       " 'paprika',\n",
       " 'pear',\n",
       " 'peas',\n",
       " 'pineapple',\n",
       " 'pomegranate',\n",
       " 'potato',\n",
       " 'raddish',\n",
       " 'soy beans',\n",
       " 'spinach',\n",
       " 'sweetcorn',\n",
       " 'sweetpotato',\n",
       " 'tomato',\n",
       " 'turnip',\n",
       " 'watermelon']"
      ]
     },
     "execution_count": 11,
     "metadata": {},
     "output_type": "execute_result"
    }
   ],
   "source": [
    "#Reading data\n",
    "\n",
    "data_dir = './vegetables_fruits_data/'\n",
    "train_folder = os.path.join(data_dir, 'train')\n",
    "valid_folder = os.path.join(data_dir, 'validation')\n",
    "test_folder = os.path.join(data_dir, 'test')\n",
    "print(os.listdir(data_dir))\n",
    "Cclasses = os.listdir(test_folder)\n",
    "Cclasses"
   ]
  },
  {
   "cell_type": "code",
   "execution_count": 12,
   "id": "03c0a370",
   "metadata": {},
   "outputs": [],
   "source": [
    "#deleting corrupted files\n",
    "\n",
    "def filter_images(folder_path):\n",
    "    for root, dirs, files in os.walk(folder_path):\n",
    "        for filename in files:\n",
    "            file_path = os.path.join(root, filename)\n",
    "\n",
    "            if file_path.lower().endswith(('.png', '.jpg', '.jpeg', '.gif', '.bmp')):\n",
    "                try:\n",
    "\n",
    "                    with Image.open(file_path) as img:\n",
    "                        img.verify()\n",
    "                except OSError:\n",
    "\n",
    "                    print(f\"Removing: {file_path}\")\n",
    "                    os.remove(file_path)\n",
    "            else:\n",
    "\n",
    "                print(f\"Removing: {file_path} - Unsupported file type\")\n",
    "                os.remove(file_path)\n",
    "\n",
    "filter_images(test_folder)\n",
    "filter_images(train_folder)\n",
    "filter_images(valid_folder)"
   ]
  },
  {
   "cell_type": "markdown",
   "id": "72614691",
   "metadata": {},
   "source": [
    "Implementing some calculation functions to view the number of files in folder so we can decide if we should use oversample or undersample"
   ]
  },
  {
   "cell_type": "code",
   "execution_count": 13,
   "id": "0fbb2123",
   "metadata": {},
   "outputs": [
    {
     "name": "stdout",
     "output_type": "stream",
     "text": [
      "Folder: ./vegetables_fruits_data/test\n",
      "  Class: apple - Count: 10 - Percentage: 2.79%\n",
      "  Class: banana - Count: 9 - Percentage: 2.51%\n",
      "  Class: beetroot - Count: 10 - Percentage: 2.79%\n",
      "  Class: bell pepper - Count: 10 - Percentage: 2.79%\n",
      "  Class: cabbage - Count: 10 - Percentage: 2.79%\n",
      "  Class: capsicum - Count: 10 - Percentage: 2.79%\n",
      "  Class: carrot - Count: 10 - Percentage: 2.79%\n",
      "  Class: cauliflower - Count: 10 - Percentage: 2.79%\n",
      "  Class: chilli pepper - Count: 10 - Percentage: 2.79%\n",
      "  Class: corn - Count: 10 - Percentage: 2.79%\n",
      "  Class: cucumber - Count: 10 - Percentage: 2.79%\n",
      "  Class: eggplant - Count: 10 - Percentage: 2.79%\n",
      "  Class: garlic - Count: 10 - Percentage: 2.79%\n",
      "  Class: ginger - Count: 10 - Percentage: 2.79%\n",
      "  Class: grapes - Count: 10 - Percentage: 2.79%\n",
      "  Class: jalepeno - Count: 10 - Percentage: 2.79%\n",
      "  Class: kiwi - Count: 10 - Percentage: 2.79%\n",
      "  Class: lemon - Count: 10 - Percentage: 2.79%\n",
      "  Class: lettuce - Count: 10 - Percentage: 2.79%\n",
      "  Class: mango - Count: 10 - Percentage: 2.79%\n",
      "  Class: onion - Count: 10 - Percentage: 2.79%\n",
      "  Class: orange - Count: 10 - Percentage: 2.79%\n",
      "  Class: paprika - Count: 10 - Percentage: 2.79%\n",
      "  Class: pear - Count: 10 - Percentage: 2.79%\n",
      "  Class: peas - Count: 10 - Percentage: 2.79%\n",
      "  Class: pineapple - Count: 10 - Percentage: 2.79%\n",
      "  Class: pomegranate - Count: 10 - Percentage: 2.79%\n",
      "  Class: potato - Count: 10 - Percentage: 2.79%\n",
      "  Class: raddish - Count: 10 - Percentage: 2.79%\n",
      "  Class: soy beans - Count: 10 - Percentage: 2.79%\n",
      "  Class: spinach - Count: 10 - Percentage: 2.79%\n",
      "  Class: sweetcorn - Count: 10 - Percentage: 2.79%\n",
      "  Class: sweetpotato - Count: 10 - Percentage: 2.79%\n",
      "  Class: tomato - Count: 10 - Percentage: 2.79%\n",
      "  Class: turnip - Count: 10 - Percentage: 2.79%\n",
      "  Class: watermelon - Count: 10 - Percentage: 2.79%\n",
      "  Total Files: 359\n",
      "\n",
      "Folder: ./vegetables_fruits_data/train\n",
      "  Class: apple - Count: 68 - Percentage: 2.18%\n",
      "  Class: banana - Count: 75 - Percentage: 2.41%\n",
      "  Class: beetroot - Count: 88 - Percentage: 2.83%\n",
      "  Class: bell pepper - Count: 90 - Percentage: 2.89%\n",
      "  Class: cabbage - Count: 92 - Percentage: 2.95%\n",
      "  Class: capsicum - Count: 89 - Percentage: 2.86%\n",
      "  Class: carrot - Count: 82 - Percentage: 2.63%\n",
      "  Class: cauliflower - Count: 79 - Percentage: 2.54%\n",
      "  Class: chilli pepper - Count: 87 - Percentage: 2.79%\n",
      "  Class: corn - Count: 87 - Percentage: 2.79%\n",
      "  Class: cucumber - Count: 94 - Percentage: 3.02%\n",
      "  Class: eggplant - Count: 84 - Percentage: 2.70%\n",
      "  Class: garlic - Count: 92 - Percentage: 2.95%\n",
      "  Class: ginger - Count: 68 - Percentage: 2.18%\n",
      "  Class: grapes - Count: 100 - Percentage: 3.21%\n",
      "  Class: jalepeno - Count: 88 - Percentage: 2.83%\n",
      "  Class: kiwi - Count: 88 - Percentage: 2.83%\n",
      "  Class: lemon - Count: 82 - Percentage: 2.63%\n",
      "  Class: lettuce - Count: 97 - Percentage: 3.11%\n",
      "  Class: mango - Count: 86 - Percentage: 2.76%\n",
      "  Class: onion - Count: 94 - Percentage: 3.02%\n",
      "  Class: orange - Count: 69 - Percentage: 2.22%\n",
      "  Class: paprika - Count: 83 - Percentage: 2.66%\n",
      "  Class: pear - Count: 89 - Percentage: 2.86%\n",
      "  Class: peas - Count: 100 - Percentage: 3.21%\n",
      "  Class: pineapple - Count: 99 - Percentage: 3.18%\n",
      "  Class: pomegranate - Count: 79 - Percentage: 2.54%\n",
      "  Class: potato - Count: 77 - Percentage: 2.47%\n",
      "  Class: raddish - Count: 81 - Percentage: 2.60%\n",
      "  Class: soy beans - Count: 97 - Percentage: 3.11%\n",
      "  Class: spinach - Count: 97 - Percentage: 3.11%\n",
      "  Class: sweetcorn - Count: 91 - Percentage: 2.92%\n",
      "  Class: sweetpotato - Count: 69 - Percentage: 2.22%\n",
      "  Class: tomato - Count: 92 - Percentage: 2.95%\n",
      "  Class: turnip - Count: 98 - Percentage: 3.15%\n",
      "  Class: watermelon - Count: 84 - Percentage: 2.70%\n",
      "  Total Files: 3115\n",
      "\n",
      "Folder: ./vegetables_fruits_data/validation\n",
      "  Class: apple - Count: 10 - Percentage: 2.85%\n",
      "  Class: banana - Count: 9 - Percentage: 2.56%\n",
      "  Class: beetroot - Count: 10 - Percentage: 2.85%\n",
      "  Class: bell pepper - Count: 9 - Percentage: 2.56%\n",
      "  Class: cabbage - Count: 10 - Percentage: 2.85%\n",
      "  Class: capsicum - Count: 10 - Percentage: 2.85%\n",
      "  Class: carrot - Count: 9 - Percentage: 2.56%\n",
      "  Class: cauliflower - Count: 10 - Percentage: 2.85%\n",
      "  Class: chilli pepper - Count: 9 - Percentage: 2.56%\n",
      "  Class: corn - Count: 10 - Percentage: 2.85%\n",
      "  Class: cucumber - Count: 10 - Percentage: 2.85%\n",
      "  Class: eggplant - Count: 10 - Percentage: 2.85%\n",
      "  Class: garlic - Count: 10 - Percentage: 2.85%\n",
      "  Class: ginger - Count: 10 - Percentage: 2.85%\n",
      "  Class: grapes - Count: 9 - Percentage: 2.56%\n",
      "  Class: jalepeno - Count: 9 - Percentage: 2.56%\n",
      "  Class: kiwi - Count: 10 - Percentage: 2.85%\n",
      "  Class: lemon - Count: 10 - Percentage: 2.85%\n",
      "  Class: lettuce - Count: 9 - Percentage: 2.56%\n",
      "  Class: mango - Count: 10 - Percentage: 2.85%\n",
      "  Class: onion - Count: 10 - Percentage: 2.85%\n",
      "  Class: orange - Count: 9 - Percentage: 2.56%\n",
      "  Class: paprika - Count: 10 - Percentage: 2.85%\n",
      "  Class: pear - Count: 10 - Percentage: 2.85%\n",
      "  Class: peas - Count: 10 - Percentage: 2.85%\n",
      "  Class: pineapple - Count: 10 - Percentage: 2.85%\n",
      "  Class: pomegranate - Count: 10 - Percentage: 2.85%\n",
      "  Class: potato - Count: 10 - Percentage: 2.85%\n",
      "  Class: raddish - Count: 9 - Percentage: 2.56%\n",
      "  Class: soy beans - Count: 10 - Percentage: 2.85%\n",
      "  Class: spinach - Count: 10 - Percentage: 2.85%\n",
      "  Class: sweetcorn - Count: 10 - Percentage: 2.85%\n",
      "  Class: sweetpotato - Count: 10 - Percentage: 2.85%\n",
      "  Class: tomato - Count: 10 - Percentage: 2.85%\n",
      "  Class: turnip - Count: 10 - Percentage: 2.85%\n",
      "  Class: watermelon - Count: 10 - Percentage: 2.85%\n",
      "  Total Files: 351\n",
      "\n"
     ]
    }
   ],
   "source": [
    "# Function to count the number of files in a folder\n",
    "def count_files(folder_path):\n",
    "    try:\n",
    "        with os.scandir(folder_path) as entries:\n",
    "            return sum(1 for entry in entries if entry.is_file() and not entry.name.startswith('.'))\n",
    "    except OSError as e:\n",
    "        print(f\"Error counting files in {folder_path}: {e}\")\n",
    "        return 0\n",
    "\n",
    "# Function to calculate the percentage of files in a folder\n",
    "def calculate_percentage(folder_path, total_files):\n",
    "    folder_files = count_files(folder_path)\n",
    "    return (folder_files / total_files) * 100 if total_files > 0 else 0\n",
    "\n",
    "# Iterate through test, train, and valid folders\n",
    "for folder in [test_folder, train_folder, valid_folder]:\n",
    "    total_files = sum([count_files(os.path.join(folder, class_name)) for class_name in Cclasses])\n",
    "\n",
    "    print(f\"Folder: {folder}\")\n",
    "    for class_name in Cclasses:\n",
    "        class_folder = os.path.join(folder, class_name)\n",
    "        class_count = count_files(class_folder)\n",
    "        class_percentage = calculate_percentage(class_folder, total_files)\n",
    "        print(f\"  Class: {class_name} - Count: {class_count} - Percentage: {class_percentage:.2f}%\")\n",
    "\n",
    "    print(f\"  Total Files: {total_files}\")\n",
    "    print()"
   ]
  },
  {
   "cell_type": "code",
   "execution_count": 18,
   "id": "6e00c9d6",
   "metadata": {},
   "outputs": [
    {
     "name": "stdout",
     "output_type": "stream",
     "text": [
      "Found 3115 images belonging to 36 classes.\n",
      "Found 351 images belonging to 36 classes.\n",
      "Found 359 images belonging to 36 classes.\n"
     ]
    }
   ],
   "source": [
    "# Training generator + Augmentation\n",
    "\n",
    "basic_gen = ImageDataGenerator(\n",
    "    preprocessing_function = preprocess_input,\n",
    "    dtype = 'float32'\n",
    ")\n",
    "\n",
    "train_gen = ImageDataGenerator(\n",
    "    preprocessing_function = preprocess_input,\n",
    "    rotation_range = 20,\n",
    "    width_shift_range = 0.3,\n",
    "    height_shift_range = 0.3,\n",
    "    zoom_range = 0.2,\n",
    "    horizontal_flip = True,\n",
    "    vertical_flip = True,\n",
    "    dtype = 'float32'\n",
    ")\n",
    "\n",
    "train_data = train_gen.flow_from_directory(\n",
    "    train_folder,\n",
    "    target_size = (224,224),\n",
    "    batch_size = 32,\n",
    "    class_mode = 'categorical'\n",
    ")\n",
    "\n",
    "valid_data = basic_gen.flow_from_directory(\n",
    "    valid_folder,\n",
    "    target_size = (224,224),\n",
    "    batch_size = 32,\n",
    "    class_mode = 'categorical'\n",
    ")\n",
    "\n",
    "test_data = basic_gen.flow_from_directory(\n",
    "    test_folder,\n",
    "    target_size = (224,224),\n",
    "    batch_size = 32,\n",
    "    class_mode = 'categorical',\n",
    "    shuffle = True\n",
    ")\n"
   ]
  },
  {
   "cell_type": "code",
   "execution_count": 19,
   "id": "6d543f95",
   "metadata": {},
   "outputs": [
    {
     "name": "stdout",
     "output_type": "stream",
     "text": [
      "Model: \"sequential_2\"\n",
      "_________________________________________________________________\n",
      " Layer (type)                Output Shape              Param #   \n",
      "=================================================================\n",
      " efficientnetb0 (Functional  (None, 7, 7, 1280)        4049571   \n",
      " )                                                               \n",
      "                                                                 \n",
      " batch_normalization_2 (Bat  (None, 7, 7, 1280)        5120      \n",
      " chNormalization)                                                \n",
      "                                                                 \n",
      " max_pooling2d_2 (MaxPoolin  (None, 3, 3, 1280)        0         \n",
      " g2D)                                                            \n",
      "                                                                 \n",
      " flatten_2 (Flatten)         (None, 11520)             0         \n",
      "                                                                 \n",
      " dense_8 (Dense)             (None, 1024)              11797504  \n",
      "                                                                 \n",
      " dropout_4 (Dropout)         (None, 1024)              0         \n",
      "                                                                 \n",
      " dense_9 (Dense)             (None, 512)               524800    \n",
      "                                                                 \n",
      " dropout_5 (Dropout)         (None, 512)               0         \n",
      "                                                                 \n",
      " dense_10 (Dense)            (None, 256)               131328    \n",
      "                                                                 \n",
      " dense_11 (Dense)            (None, 36)                9252      \n",
      "                                                                 \n",
      "=================================================================\n",
      "Total params: 16517575 (63.01 MB)\n",
      "Trainable params: 12465444 (47.55 MB)\n",
      "Non-trainable params: 4052131 (15.46 MB)\n",
      "_________________________________________________________________\n"
     ]
    }
   ],
   "source": [
    "#building model\n",
    "\n",
    "input_shape=(224,224,3)\n",
    "\n",
    "base_model = EfficientNetB0(\n",
    "    include_top=False, \n",
    "    weights=\"imagenet\", \n",
    "    input_shape=input_shape \n",
    "    )\n",
    "\n",
    "#freezing layers to use the model as feature extractor\n",
    "for layer in base_model.layers:\n",
    "    layer.trainable = False\n",
    "\n",
    "\n",
    "model = Sequential()\n",
    "model.add(base_model)\n",
    "model.add(BatchNormalization())\n",
    "model.add(MaxPooling2D((2,2)))\n",
    "model.add(Flatten())\n",
    "model.add(Dense(1024,activation = 'relu'))\n",
    "model.add(Dropout(0.3))\n",
    "model.add(Dense(512,activation = 'relu'))\n",
    "model.add(Dropout(0.3))\n",
    "model.add(Dense(256,activation = 'relu'))\n",
    "model.add(Dense(36,activation = 'softmax'))\n",
    "model.summary()\n",
    "\n",
    "#Compiling the model\n",
    "model.compile(\n",
    "    optimizer=\"adam\",\n",
    "    loss='categorical_crossentropy',\n",
    "    metrics=['accuracy']\n",
    ")"
   ]
  },
  {
   "cell_type": "code",
   "execution_count": 25,
   "id": "8434029f",
   "metadata": {},
   "outputs": [
    {
     "name": "stdout",
     "output_type": "stream",
     "text": [
      "Epoch 1/10\n",
      "98/98 [==============================] - 147s 1s/step - loss: 0.9075 - accuracy: 0.7095 - val_loss: 0.3304 - val_accuracy: 0.8718\n",
      "Epoch 2/10\n",
      "98/98 [==============================] - 149s 2s/step - loss: 0.8566 - accuracy: 0.7396 - val_loss: 0.3364 - val_accuracy: 0.8718\n",
      "Epoch 3/10\n",
      "98/98 [==============================] - 148s 2s/step - loss: 0.8581 - accuracy: 0.7323 - val_loss: 0.3628 - val_accuracy: 0.8661\n",
      "Epoch 4/10\n",
      "98/98 [==============================] - 151s 2s/step - loss: 0.7901 - accuracy: 0.7419 - val_loss: 0.3139 - val_accuracy: 0.8689\n",
      "Epoch 5/10\n",
      "98/98 [==============================] - 138s 1s/step - loss: 0.7897 - accuracy: 0.7515 - val_loss: 0.3667 - val_accuracy: 0.8462\n",
      "Epoch 6/10\n",
      "98/98 [==============================] - 149s 2s/step - loss: 0.7882 - accuracy: 0.7496 - val_loss: 0.2879 - val_accuracy: 0.8718\n",
      "Epoch 7/10\n",
      "98/98 [==============================] - 152s 2s/step - loss: 0.7433 - accuracy: 0.7525 - val_loss: 0.2941 - val_accuracy: 0.8718\n",
      "Epoch 8/10\n",
      "98/98 [==============================] - 153s 2s/step - loss: 0.7414 - accuracy: 0.7669 - val_loss: 0.2916 - val_accuracy: 0.8746\n",
      "Epoch 9/10\n",
      "98/98 [==============================] - 140s 1s/step - loss: 0.7214 - accuracy: 0.7669 - val_loss: 0.2897 - val_accuracy: 0.8746\n",
      "Epoch 10/10\n",
      "98/98 [==============================] - 144s 1s/step - loss: 0.6975 - accuracy: 0.7717 - val_loss: 0.2844 - val_accuracy: 0.8917\n"
     ]
    }
   ],
   "source": [
    "#Training the model\n",
    "\n",
    "reduce_lr = tf.keras.callbacks.ReduceLROnPlateau(\n",
    "    monitor='val_loss', factor=0.2, patience=3, min_lr=0.0001\n",
    ")\n",
    "\n",
    "callbacks = [\n",
    "    tf.keras.callbacks.EarlyStopping(patience=5),\n",
    "    tf.keras.callbacks.ModelCheckpoint('model.h5',save_best_only=True),\n",
    "    tf.keras.callbacks.TensorBoard(log_dir='logs'),\n",
    "    reduce_lr\n",
    "]\n",
    "results = model.fit(train_data, validation_data=valid_data, epochs=10, verbose=1)\n"
   ]
  },
  {
   "cell_type": "code",
   "execution_count": 26,
   "id": "092b7366",
   "metadata": {},
   "outputs": [
    {
     "data": {
      "image/png": "[encoded data removed]",
      "text/plain": [
       "<Figure size 640x480 with 1 Axes>"
      ]
     },
     "metadata": {},
     "output_type": "display_data"
    }
   ],
   "source": [
    "from keras.callbacks import EarlyStopping\n",
    "import matplotlib.pyplot as plt\n",
    "\n",
    "# Define Early Stopping\n",
    "early_stopping = EarlyStopping(monitor='val_loss', patience=5, restore_best_weights=True)\n",
    "\n",
    "# Plot training progress\n",
    "plt.plot(results.history['loss'], label='Training Loss')\n",
    "plt.plot(results.history['val_loss'], label='Validation Loss')\n",
    "plt.xlabel('Epochs')\n",
    "plt.ylabel('Loss')\n",
    "plt.legend()\n",
    "plt.show()"
   ]
  },
  {
   "cell_type": "code",
   "execution_count": 29,
   "id": "ba29647a",
   "metadata": {},
   "outputs": [
    {
     "name": "stderr",
     "output_type": "stream",
     "text": [
      "C:\\Users\\ranim\\AppData\\Local\\Packages\\PythonSoftwareFoundation.Python.3.10_qbz5n2kfra8p0\\LocalCache\\local-packages\\Python310\\site-packages\\keras\\src\\engine\\training.py:3103: UserWarning: You are saving your model as an HDF5 file via `model.save()`. This file format is considered legacy. We recommend using instead the native Keras format, e.g. `model.save('my_model.keras')`.\n",
      "  saving_api.save_model(\n"
     ]
    }
   ],
   "source": [
    "# Get the current working directory\n",
    "current_directory = os.getcwd()\n",
    "\n",
    "# Set the path where we want to save the model (current working directory)\n",
    "save_path = os.path.join(current_directory, 'model_checkpoint.h5')\n",
    "\n",
    "# Save the model\n",
    "model.save(save_path)"
   ]
  },
  {
   "cell_type": "code",
   "execution_count": 31,
   "id": "5a6a491b",
   "metadata": {},
   "outputs": [],
   "source": [
    "image_recognize = load_model(save_path)"
   ]
  },
  {
   "cell_type": "code",
   "execution_count": 32,
   "id": "51406a8b",
   "metadata": {},
   "outputs": [
    {
     "name": "stdout",
     "output_type": "stream",
     "text": [
      "12/12 [==============================] - 15s 1s/step - loss: 0.2842 - accuracy: 0.8942\n"
     ]
    }
   ],
   "source": [
    "loss, acc = image_recognize.evaluate(test_data,verbose = 1)"
   ]
  },
  {
   "cell_type": "code",
   "execution_count": null,
   "id": "32f60cee",
   "metadata": {},
   "outputs": [],
   "source": []
  }
 ],
 "metadata": {
  "kernelspec": {
   "display_name": "Python 3 (ipykernel)",
   "language": "python",
   "name": "python3"
  },
  "language_info": {
   "codemirror_mode": {
    "name": "ipython",
    "version": 3
   },
   "file_extension": ".py",
   "mimetype": "text/x-python",
   "name": "python",
   "nbconvert_exporter": "python",
   "pygments_lexer": "ipython3",
   "version": "3.10.0"
  }
 },
 "nbformat": 4,
 "nbformat_minor": 5
}
